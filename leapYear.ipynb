{
  "nbformat": 4,
  "nbformat_minor": 0,
  "metadata": {
    "colab": {
      "name": "leapYear.ipynb",
      "provenance": []
    },
    "kernelspec": {
      "name": "python3",
      "display_name": "Python 3"
    }
  },
  "cells": [
    {
      "cell_type": "code",
      "metadata": {
        "id": "1SHUu10k7QIm",
        "colab_type": "code",
        "outputId": "58ac0068-8fbb-438e-8df0-5e611250f46e",
        "colab": {
          "base_uri": "https://localhost:8080/",
          "height": 51
        }
      },
      "source": [
        "year= int(input (\"please enter the year you want to check\"))\n",
        "\n",
        "if year%4==0:\n",
        "  if year%100==0 and year%400==0:\n",
        "    print(\"the year is a leap year\")\n",
        "  else:\n",
        "    print(\"the year is not a leap year\")\n",
        "\n",
        "else:\n",
        "  print(\"the year is not a leap year\")\n",
        "\n"
      ],
      "execution_count": 0,
      "outputs": [
        {
          "output_type": "stream",
          "text": [
            "please enter the year you want to check2000\n",
            "the year is a leap year\n"
          ],
          "name": "stdout"
        }
      ]
    }
  ]
}